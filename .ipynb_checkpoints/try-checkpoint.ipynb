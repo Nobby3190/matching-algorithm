{
 "cells": [
  {
   "cell_type": "code",
   "execution_count": 1,
   "metadata": {},
   "outputs": [],
   "source": [
    "import random\n",
    "import numpy as np\n",
    "from numpy import dot\n",
    "from numpy.linalg import norm\n",
    "import matplotlib.pyplot as plt\n",
    "from sklearn.metrics.pairwise import cosine_similarity"
   ]
  },
  {
   "cell_type": "code",
   "execution_count": 2,
   "metadata": {},
   "outputs": [],
   "source": [
    "class KMeans:\n",
    "    def cal_dist(self, p0, p1):\n",
    "        \"\"\"\n",
    "        比較兩點的距離\n",
    "        \"\"\"\n",
    "        return cosine_similarity([p0], [p1])[0][0]\n",
    "    \n",
    "    def nearest_cluster_center(self, point, cluster_centers):\n",
    "        \"\"\"\n",
    "        找到距離 point 最近的中心點\n",
    "        \"\"\"\n",
    "        min_dist = float(\"inf\")\n",
    "        m = cluster_centers.shape[0]\n",
    "        for i in range(m):\n",
    "            d = self.cal_dist(point, cluster_centers[i])\n",
    "            if min_dist > d:\n",
    "                min_dist = d\n",
    "        return min_dist \n",
    "\n",
    "    def get_centroids(self, datapoints, k):\n",
    "        \"\"\"\n",
    "        K-means++ 演算法，取得初始化中心點\n",
    "        \"\"\"\n",
    "        clusters = np.array([random.choice(datapoints)])\n",
    "        dist = np.zeros(len(datapoints))\n",
    "        \n",
    "        for i in range(k-1):\n",
    "            sum_dist = 0\n",
    "            for j, point in enumerate(datapoints):\n",
    "                dist[j] = self.nearest_cluster_center(point, clusters)\n",
    "                sum_dist += dist[j]\n",
    "            \n",
    "            sum_dist *= random.random()\n",
    "            for j, d in enumerate(dist):\n",
    "                sum_dist = sum_dist - d\n",
    "                if sum_dist <= 0:\n",
    "                    clusters = np.append(clusters, [datapoints[j]], axis=0)\n",
    "                    break\n",
    "        \n",
    "        return clusters\n",
    "        \n",
    "        \n",
    "    def kmeans_plus_plus(self, datapoints, k=2):\n",
    "        \"\"\"\n",
    "        K-means 演算法\n",
    "        \"\"\"\n",
    "        # 定義資料維度\n",
    "        d = datapoints.shape[1]\n",
    "        # 最大的迭代次數\n",
    "        Max_Iterations = 1000\n",
    "\n",
    "        cluster = np.zeros(datapoints.shape[0])\n",
    "        prev_cluster = np.ones(datapoints.shape[0])\n",
    "\n",
    "        cluster_centers = self.get_centroids(datapoints, k)\n",
    "\n",
    "        iteration = 0\n",
    "        while np.array_equal(cluster, prev_cluster) is False or iteration > Max_Iterations:\n",
    "            iteration += 1\n",
    "            prev_cluster = cluster.copy()\n",
    "\n",
    "            # 將每一個點做分群\n",
    "            for idx, point in enumerate(datapoints):\n",
    "                min_dist = float(\"inf\")\n",
    "                for c, cluster_center in enumerate(cluster_centers):\n",
    "                    dist = self.cal_dist(point, cluster_center)\n",
    "                    if dist < min_dist:\n",
    "                        min_dist = dist  \n",
    "                        cluster[idx] = c   # 指定該點屬於哪個分群\n",
    "\n",
    "            # 更新分群的中心\n",
    "            for k in range(len(cluster_centers)):\n",
    "                new_center = np.zeros(d)\n",
    "                members = 0\n",
    "                for point, c in zip(datapoints, cluster):\n",
    "                    if c == k:\n",
    "                        new_center += point\n",
    "                        members += 1\n",
    "                if members > 0:\n",
    "                    new_center = new_center / members\n",
    "                cluster_centers[k] = new_center\n",
    "\n",
    "        return cluster"
   ]
  },
  {
   "cell_type": "code",
   "execution_count": 3,
   "metadata": {},
   "outputs": [
    {
     "data": {
      "text/plain": [
       "<matplotlib.collections.PathCollection at 0x7f99b3d2db90>"
      ]
     },
     "execution_count": 3,
     "metadata": {},
     "output_type": "execute_result"
    },
    {
     "data": {
      "image/png": "[encoded data removed]",
      "text/plain": [
       "<Figure size 432x288 with 1 Axes>"
      ]
     },
     "metadata": {
      "needs_background": "light"
     },
     "output_type": "display_data"
    }
   ],
   "source": [
    "datapoints = np.random.rand(100, 2)\n",
    "plt.scatter(datapoints[:, 0], datapoints[:, 1])"
   ]
  }
 ],
 "metadata": {
  "kernelspec": {
   "display_name": "Python 3",
   "language": "python",
   "name": "python3"
  },
  "language_info": {
   "codemirror_mode": {
    "name": "ipython",
    "version": 3
   },
   "file_extension": ".py",
   "mimetype": "text/x-python",
   "name": "python",
   "nbconvert_exporter": "python",
   "pygments_lexer": "ipython3",
   "version": "3.7.6"
  }
 },
 "nbformat": 4,
 "nbformat_minor": 4
}
